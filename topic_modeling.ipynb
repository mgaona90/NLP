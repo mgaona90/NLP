{
 "cells": [
  {
   "attachments": {},
   "cell_type": "markdown",
   "id": "af646850",
   "metadata": {},
   "source": [
    "LIBRARIES"
   ]
  },
  {
   "cell_type": "code",
   "execution_count": 181,
   "id": "90af92f4",
   "metadata": {},
   "outputs": [],
   "source": [
    "import pandas as pd\n",
    "import json\n",
    "import string\n",
    "import unidecode\n",
    "import openai\n",
    "import sys\n",
    "from nltk.corpus import stopwords\n",
    "from nltk import word_tokenize\n",
    "from nltk.corpus import stopwords\n",
    "from matplotlib import pyplot as plt\n",
    "from sklearn.decomposition import LatentDirichletAllocation, NMF\n",
    "from sklearn.naive_bayes import MultinomialNB, ComplementNB\n",
    "from sklearn.feature_extraction.text import TfidfVectorizer"
   ]
  },
  {
   "attachments": {},
   "cell_type": "markdown",
   "id": "029c7525",
   "metadata": {},
   "source": [
    "PARAMETROS"
   ]
  },
  {
   "cell_type": "code",
   "execution_count": 182,
   "id": "8b24f6f9",
   "metadata": {},
   "outputs": [],
   "source": [
    "#parametros de entrada\n",
    "# qty_topics\n",
    "#lista_stopwords\n",
    "#filtros de la query\n",
    "\n",
    "try:\n",
    "    qty_topics = sys.argv[1]\n",
    "except:\n",
    "    pass\n",
    "\n",
    "try:\n",
    "    aux_stop_dashboard = sys.argv[2]\n",
    "except:\n",
    "    pass\n",
    "\n",
    "try:\n",
    "    col_id = sys.argv[3]\n",
    "except:\n",
    "    pass\n",
    "\n",
    "\n",
    "#PARAMETROS DE ENTRADA\n",
    "file_name='train1.csv' #en verdad es la QUERY\n",
    "\n",
    "\n",
    "aux_stop_dashboard=[\"lista parametro de entrada\"] #la lista de stopwords temporales del dashboard\n",
    "qty_topics=6 \n",
    "col_id='Unnamed: 0' #La columna de la query de los ids de las interacciones"
   ]
  },
  {
   "cell_type": "code",
   "execution_count": 184,
   "id": "6ee2dd24",
   "metadata": {},
   "outputs": [],
   "source": [
    "#PARAMETROS INTERNOS\n",
    "decoder=False\n",
    "qty_words=7 # cantidad de palabras por topico"
   ]
  },
  {
   "attachments": {},
   "cell_type": "markdown",
   "id": "229f678f",
   "metadata": {},
   "source": [
    "LOAD & STOPWORDS"
   ]
  },
  {
   "cell_type": "code",
   "execution_count": 246,
   "id": "d29f8d79",
   "metadata": {},
   "outputs": [],
   "source": [
    "df=pd.read_csv(file_name)"
   ]
  },
  {
   "cell_type": "code",
   "execution_count": 247,
   "id": "ce6fa9df",
   "metadata": {},
   "outputs": [],
   "source": [
    "# with open(\"stop_words_spanish.txt\", \"rt\") as f:\n",
    "    # a=f.readlines()\n",
    "\n",
    "stop = stopwords.words(\"spanish\")\n",
    "# a = [w[:-1] for w in a]\n",
    "aux_stop=['aver','ahi','tarjeta','tarjetas','nombre','marido','osvaldo','hermano','vos','ah','hola','que','tal','santander','verdad','eh',\n",
    "    'si','queria','hacer','buen','consulta','bueno','bien','dia','dale','ok','ah','eh', 'favor','mira',\n",
    "    'segundo','segundito','escucha', 'ahora','escucho','dale','perfecto','oh' ,'ayudar','gracias','muchisimas',\n",
    "'igualmente','entonces','bueno','amigo','digamos','usted','si','ver','dias','hola','escuchas','perdon','no'\n",
    "'tal','hablando','tardes','noches','buen','eh','bien','acá','dia','pues','ayer','como','luego','va','creo',\n",
    "'despues','señor','señora','digame','viste','hace','eh','sabes','hijo','noviembre','diciembre','octubre','mes',\n",
    "'hola','vez','dos','mercadolibre','mismo','elba']\n",
    "stop.extend(aux_stop_dashboard)\n",
    "stop.extend(aux_stop)\n",
    "stop.extend(['asi','nan','mas',\"quiero\", \"se\", \"hola\", \"ya\", \"dia\", \"buen\", \"tardes\", \"gracias\", \"problema\", \"te\", \"quería\", \"eh\", \"vos\", \"mí\", \"perfecto\",\"listo\",\"dale\",\"ay\", \"ah\", \"claro\", \"tenes\", \"tu\", \"mira\", \"aca\",\"vas\", \"vale\", \"pasa\", \"ok\", \"mis\",\"veo\",\"favor\", \"señor\", \"pido\", \"digamos\", \"digo\", \"viste\", \"senora\", \"senor\",'elba'])"
   ]
  },
  {
   "attachments": {},
   "cell_type": "markdown",
   "id": "198ec22d",
   "metadata": {},
   "source": [
    "PREPROCESSING"
   ]
  },
  {
   "cell_type": "code",
   "execution_count": 248,
   "id": "c387df3a",
   "metadata": {},
   "outputs": [],
   "source": [
    "df[\"text\"].astype(str)\n",
    "texts = df[\"text\"].values\n",
    "translator = str.maketrans(string.punctuation, ' '*len(string.punctuation))\n",
    "\n",
    "texts = [str(s).translate(translator) for s in texts] #Ajusta un poco las palabras\n",
    "texts = [word_tokenize(s) for s in texts] #tokeniza\n",
    "texts = [[w.lower() for w in s] for s in texts] #a lower\n",
    "texts = [[unidecode.unidecode(w) for w in s] for s in texts] #Elimina acentos\n",
    "texts = [['' if t in stop else t for t in s] for s in texts] #elimina las palabras que estan en una lista\n",
    "texts = [\" \".join(s) for s in texts]\n",
    "df['text']=texts\n",
    "# vec = TfidfVectorizer(min_df = 10, max_df = 1.0, ngram_range=(1,3), stop_words= a) \n",
    "# X = vec.fit_transform(texts)"
   ]
  },
  {
   "attachments": {},
   "cell_type": "markdown",
   "id": "8fc6d738",
   "metadata": {},
   "source": [
    "MODELS"
   ]
  },
  {
   "cell_type": "code",
   "execution_count": 249,
   "id": "035b5647",
   "metadata": {},
   "outputs": [
    {
     "data": {
      "text/html": [
       "<style>#sk-container-id-13 {color: black;background-color: white;}#sk-container-id-13 pre{padding: 0;}#sk-container-id-13 div.sk-toggleable {background-color: white;}#sk-container-id-13 label.sk-toggleable__label {cursor: pointer;display: block;width: 100%;margin-bottom: 0;padding: 0.3em;box-sizing: border-box;text-align: center;}#sk-container-id-13 label.sk-toggleable__label-arrow:before {content: \"▸\";float: left;margin-right: 0.25em;color: #696969;}#sk-container-id-13 label.sk-toggleable__label-arrow:hover:before {color: black;}#sk-container-id-13 div.sk-estimator:hover label.sk-toggleable__label-arrow:before {color: black;}#sk-container-id-13 div.sk-toggleable__content {max-height: 0;max-width: 0;overflow: hidden;text-align: left;background-color: #f0f8ff;}#sk-container-id-13 div.sk-toggleable__content pre {margin: 0.2em;color: black;border-radius: 0.25em;background-color: #f0f8ff;}#sk-container-id-13 input.sk-toggleable__control:checked~div.sk-toggleable__content {max-height: 200px;max-width: 100%;overflow: auto;}#sk-container-id-13 input.sk-toggleable__control:checked~label.sk-toggleable__label-arrow:before {content: \"▾\";}#sk-container-id-13 div.sk-estimator input.sk-toggleable__control:checked~label.sk-toggleable__label {background-color: #d4ebff;}#sk-container-id-13 div.sk-label input.sk-toggleable__control:checked~label.sk-toggleable__label {background-color: #d4ebff;}#sk-container-id-13 input.sk-hidden--visually {border: 0;clip: rect(1px 1px 1px 1px);clip: rect(1px, 1px, 1px, 1px);height: 1px;margin: -1px;overflow: hidden;padding: 0;position: absolute;width: 1px;}#sk-container-id-13 div.sk-estimator {font-family: monospace;background-color: #f0f8ff;border: 1px dotted black;border-radius: 0.25em;box-sizing: border-box;margin-bottom: 0.5em;}#sk-container-id-13 div.sk-estimator:hover {background-color: #d4ebff;}#sk-container-id-13 div.sk-parallel-item::after {content: \"\";width: 100%;border-bottom: 1px solid gray;flex-grow: 1;}#sk-container-id-13 div.sk-label:hover label.sk-toggleable__label {background-color: #d4ebff;}#sk-container-id-13 div.sk-serial::before {content: \"\";position: absolute;border-left: 1px solid gray;box-sizing: border-box;top: 0;bottom: 0;left: 50%;z-index: 0;}#sk-container-id-13 div.sk-serial {display: flex;flex-direction: column;align-items: center;background-color: white;padding-right: 0.2em;padding-left: 0.2em;position: relative;}#sk-container-id-13 div.sk-item {position: relative;z-index: 1;}#sk-container-id-13 div.sk-parallel {display: flex;align-items: stretch;justify-content: center;background-color: white;position: relative;}#sk-container-id-13 div.sk-item::before, #sk-container-id-13 div.sk-parallel-item::before {content: \"\";position: absolute;border-left: 1px solid gray;box-sizing: border-box;top: 0;bottom: 0;left: 50%;z-index: -1;}#sk-container-id-13 div.sk-parallel-item {display: flex;flex-direction: column;z-index: 1;position: relative;background-color: white;}#sk-container-id-13 div.sk-parallel-item:first-child::after {align-self: flex-end;width: 50%;}#sk-container-id-13 div.sk-parallel-item:last-child::after {align-self: flex-start;width: 50%;}#sk-container-id-13 div.sk-parallel-item:only-child::after {width: 0;}#sk-container-id-13 div.sk-dashed-wrapped {border: 1px dashed gray;margin: 0 0.4em 0.5em 0.4em;box-sizing: border-box;padding-bottom: 0.4em;background-color: white;}#sk-container-id-13 div.sk-label label {font-family: monospace;font-weight: bold;display: inline-block;line-height: 1.2em;}#sk-container-id-13 div.sk-label-container {text-align: center;}#sk-container-id-13 div.sk-container {/* jupyter's `normalize.less` sets `[hidden] { display: none; }` but bootstrap.min.css set `[hidden] { display: none !important; }` so we also need the `!important` here to be able to override the default hidden behavior on the sphinx rendered scikit-learn.org. See: https://github.com/scikit-learn/scikit-learn/issues/21755 */display: inline-block !important;position: relative;}#sk-container-id-13 div.sk-text-repr-fallback {display: none;}</style><div id=\"sk-container-id-13\" class=\"sk-top-container\"><div class=\"sk-text-repr-fallback\"><pre>NMF(max_iter=1000, n_components=6, random_state=0)</pre><b>In a Jupyter environment, please rerun this cell to show the HTML representation or trust the notebook. <br />On GitHub, the HTML representation is unable to render, please try loading this page with nbviewer.org.</b></div><div class=\"sk-container\" hidden><div class=\"sk-item\"><div class=\"sk-estimator sk-toggleable\"><input class=\"sk-toggleable__control sk-hidden--visually\" id=\"sk-estimator-id-13\" type=\"checkbox\" checked><label for=\"sk-estimator-id-13\" class=\"sk-toggleable__label sk-toggleable__label-arrow\">NMF</label><div class=\"sk-toggleable__content\"><pre>NMF(max_iter=1000, n_components=6, random_state=0)</pre></div></div></div></div></div>"
      ],
      "text/plain": [
       "NMF(max_iter=1000, n_components=6, random_state=0)"
      ]
     },
     "execution_count": 249,
     "metadata": {},
     "output_type": "execute_result"
    }
   ],
   "source": [
    "# create dataset\n",
    "\n",
    "df_filt=df.copy()\n",
    "\n",
    "tfidf = TfidfVectorizer(ngram_range=(1,2)) #(min_df = 10, max_df = 1.0, ngram_range=(1,2), stop_words= stop) \n",
    "text_sutopic=df_filt['text']\n",
    "df_text_sutopic=text_sutopic.reset_index()\n",
    "\n",
    "vectorizer = tfidf.fit_transform(text_sutopic)\n",
    "lda = NMF(n_components=qty_topics,random_state=0,max_iter=1000)\n",
    "lda.fit(vectorizer)"
   ]
  },
  {
   "cell_type": "code",
   "execution_count": 250,
   "id": "c8a08118",
   "metadata": {},
   "outputs": [
    {
     "data": {
      "text/plain": [
       "0.0456258068119757"
      ]
     },
     "execution_count": 250,
     "metadata": {},
     "output_type": "execute_result"
    }
   ],
   "source": [
    "lda.transform(vectorizer)[0][2]\n",
    "# df_filt.loc[r,'topic '+str(j+1)]"
   ]
  },
  {
   "cell_type": "code",
   "execution_count": 251,
   "id": "cbc339f0",
   "metadata": {},
   "outputs": [],
   "source": [
    "dict_topics_per_int={}\n",
    "aux=0\n",
    "for r in df_filt[col_id]:\n",
    "    dict_topic={}\n",
    "    for j in range(0,qty_topics):\n",
    "        # df_filt['topic '+str(j+1)]=-1.0\n",
    "        df_filt.loc[r,'topic '+str(j+1)]=lda.transform(vectorizer)[aux][j]\n",
    "        dict_topic['topic '+str(j+1)]=lda.transform(vectorizer)[aux][j]\n",
    "    dict_topics_per_int[str(r)]=dict_topic\n",
    "    aux=aux+1"
   ]
  },
  {
   "cell_type": "code",
   "execution_count": 190,
   "id": "69f2fc86",
   "metadata": {},
   "outputs": [],
   "source": [
    "dict_top_interactions={}\n",
    "dict_list_words=[]\n",
    "dict_top_interactions={}\n",
    "dict_list_inter=[]\n",
    "dic_topic={}\n",
    "\n",
    "num_of_topic=0\n",
    "pedido = \"Resume el siguiente texto en menos de 15 palabras: \"\n",
    "\n",
    "for topic_idx, topic in enumerate(lda.components_):\n",
    "        num_of_topic=num_of_topic+1\n",
    "        top_features_ind = topic.argsort()[: - qty_words-1 : -1]\n",
    "        top_features = [ tfidf.get_feature_names_out()[r] for r in top_features_ind]\n",
    "        dict_top_words={}\n",
    "        for j in range(qty_words):        \n",
    "                dict_top_words[str(j+1)] = top_features[j]\n",
    "        dict_list_words.append(dict_top_words)\n",
    "        topics_list = lda.transform(vectorizer)\n",
    "        topcis_in_documents=pd.DataFrame(topics_list)\n",
    "        index_topics_more_representatives=topcis_in_documents[num_of_topic-1].nlargest(qty_interactions).index\n",
    "        dict_top_interactions={}\n",
    "        # for i in range(1):\n",
    "                # dict_top_interactions[str(i+1)]=df_text_sutopic.loc[index_topics_more_representatives[i],'text']\n",
    "        list_interaction=df_text_sutopic.loc[index_topics_more_representatives[0],'text']\n",
    "        \n",
    "        # FOR THE SUMMARY\n",
    "        if decoder==True:\n",
    "                response = openai.Completion.create(\n",
    "                model=\"text-davinci-003\",\n",
    "                prompt= pedido + list_interaction,\n",
    "                temperature=0.1,\n",
    "                max_tokens=128,\n",
    "                top_p=1.0,\n",
    "                frequency_penalty=0.0,\n",
    "                presence_penalty=0.0\n",
    "                )\n",
    "                texto = response['choices'][0]['text']\n",
    "                \n",
    "                dict_list_inter.append(texto)\n",
    "        else:\n",
    "                dict_list_inter.append(list_interaction)"
   ]
  },
  {
   "cell_type": "code",
   "execution_count": 191,
   "id": "e940c66a",
   "metadata": {},
   "outputs": [],
   "source": [
    "dict_topic={}\n",
    "for t in range(len(dict_list_words)):\n",
    "    dict_topic['topic '+str(t+1)]={'words':dict_list_words[t],'interaction':dict_list_inter[t]}"
   ]
  },
  {
   "cell_type": "code",
   "execution_count": 192,
   "id": "38c406f8",
   "metadata": {},
   "outputs": [],
   "source": [
    "with open('word_interactions_topics.json', 'w') as f:\n",
    "    json.dump(dict_topic, f, indent=4)\n",
    "    json.dump(dict_topics_per_int, f, indent=4)"
   ]
  },
  {
   "cell_type": "code",
   "execution_count": 253,
   "id": "a7df75d3",
   "metadata": {},
   "outputs": [],
   "source": [
    "df_filt.to_csv('topics_for_interractions.csv')"
   ]
  }
 ],
 "metadata": {
  "kernelspec": {
   "display_name": "Python 3",
   "language": "python",
   "name": "python3"
  },
  "language_info": {
   "codemirror_mode": {
    "name": "ipython",
    "version": 3
   },
   "file_extension": ".py",
   "mimetype": "text/x-python",
   "name": "python",
   "nbconvert_exporter": "python",
   "pygments_lexer": "ipython3",
   "version": "3.11.0"
  },
  "vscode": {
   "interpreter": {
    "hash": "c812eb984687e98b7686c463c3fae2045e58b2a2b4e065b3dcebe3cb7d51662e"
   }
  }
 },
 "nbformat": 4,
 "nbformat_minor": 5
}
