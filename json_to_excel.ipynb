{
 "cells": [
  {
   "cell_type": "code",
   "execution_count": null,
   "id": "53c9abf5",
   "metadata": {},
   "outputs": [],
   "source": [
    "# IMPORTAR ARCHIVO JSON\n",
    "import json\n",
    "import pandas as pd\n",
    "\n",
    "f = open(r'C:\\Users\\Usuario\\Downloads\\fff.json', encoding=\"utf8\")\n",
    "p=json.load(f,strict=False)\n",
    "df = pd.DataFrame.from_dict(p['fff'])\n",
    "df.head(10) # re.sub('\\n','\\n')\n",
    "\n",
    "# si en las primeras 20 palabras se encuentra: solicita, comunica, usuario, se informa,confronta exitosa, \n",
    "ruta3= \"C:/Users/Usuario/Downloads/fff.xlsx\"\n",
    "\n",
    "from pandas import ExcelWriter\n",
    "from openpyxl import load_workbook\n",
    "\n",
    "\n",
    "#Algo de caracteres\n",
    "df = df.applymap(lambda x: x.encode('unicode_escape').\n",
    "                 decode('utf-8') if isinstance(x, str) else x)\n",
    "\n",
    "#Ingreso las bases a hojas al archivo\n",
    "writer = pd.ExcelWriter(ruta3, engine='openpyxl')\n",
    "df.to_excel(writer, index=True, engine='xlsxwriter')\n",
    "# Encuestas3[['MENSAJE','Descripción','frases']].to_excel(writer, index=True)\n",
    "writer.save()\n",
    "writer.close()"
   ]
  }
 ],
 "metadata": {
  "kernelspec": {
   "display_name": "Python 3",
   "language": "python",
   "name": "python3"
  },
  "language_info": {
   "codemirror_mode": {
    "name": "ipython",
    "version": 3
   },
   "file_extension": ".py",
   "mimetype": "text/x-python",
   "name": "python",
   "nbconvert_exporter": "python",
   "pygments_lexer": "ipython3",
   "version": "3.8.8"
  }
 },
 "nbformat": 4,
 "nbformat_minor": 5
}
